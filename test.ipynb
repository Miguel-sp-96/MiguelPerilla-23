import numpy as np
import matplotlib.pyplot as plt

# Generar datos aleatorios (por ejemplo, 1000 valores)
datos_aleatorios = np.random.normal(loc=10, scale=2, size=1000)

# Crear el histograma
plt.hist(datos_aleatorios, bins=20, edgecolor='black')
plt.xlabel('Valor')
plt.ylabel('Frecuencia')
plt.title('Histograma de Datos Aleatorios')
plt.grid(True)
plt.show()

